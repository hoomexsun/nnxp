{
 "cells": [
  {
   "cell_type": "markdown",
   "id": "4221c208",
   "metadata": {},
   "source": [
    "# Inference - Usage Example\n"
   ]
  },
  {
   "cell_type": "code",
   "execution_count": 1,
   "id": "89cbfd37",
   "metadata": {},
   "outputs": [
    {
     "name": "stderr",
     "output_type": "stream",
     "text": [
      "/home/hmxn/workspace/nnxp/src/xlit_task.py:72: FutureWarning: You are using `torch.load` with `weights_only=False` (the current default value), which uses the default pickle module implicitly. It is possible to construct malicious pickle data which will execute arbitrary code during unpickling (See https://github.com/pytorch/pytorch/blob/main/SECURITY.md#untrusted-models for more details). In a future release, the default value for `weights_only` will be flipped to `True`. This limits the functions that could be executed during unpickling. Arbitrary objects will no longer be allowed to be loaded via this mode unless they are explicitly allowlisted by the user via `torch.serialization.add_safe_globals`. We recommend you start setting `weights_only=True` for any use case where you don't have full control of the loaded file. Please open an issue on GitHub for any issues related to this experimental feature.\n",
      "  model.load_state_dict(torch.load(ckpt_file, map_location=self.device))\n"
     ]
    },
    {
     "name": "stdout",
     "output_type": "stream",
     "text": [
      "Input: অকনবা\n",
      "Output: ꯑꯀꯟꯕꯥ\n"
     ]
    }
   ],
   "source": [
    "from src.xlit_task import XlitTask\n",
    "\n",
    "conf_file = \"train.yaml\"\n",
    "ckpt_file = \"exp/xlit_train_attention_char_ben_mni/wa.best.pth\"\n",
    "xlit = XlitTask.from_pretrained(ckpt_file, conf_file)\n",
    "\n",
    "random_text = \"অকনবা\"\n",
    "output = xlit(random_text)\n",
    "\n",
    "print(f\"Input: {random_text}\\nOutput: {output}\")"
   ]
  },
  {
   "cell_type": "markdown",
   "id": "f9705849",
   "metadata": {},
   "source": [
    "## Try All\n"
   ]
  },
  {
   "cell_type": "code",
   "execution_count": null,
   "id": "54c4dd1d",
   "metadata": {},
   "outputs": [
    {
     "name": "stdout",
     "output_type": "stream",
     "text": [
      "Results saved to results/*.txt\n"
     ]
    }
   ],
   "source": [
    "from src.xlit_task import XlitTask\n",
    "from pathlib import Path\n",
    "\n",
    "model_conf_names = [\n",
    "    (\"attention\", \"train.yaml\"),  # Attention model\n",
    "    (\"lstm\", \"tuning/lstm.yaml\"),  # LSTM model\n",
    "    # (\"cnn\", \"tuning/cnn.yaml\"),      # CNN model\n",
    "    (\"transformer\", \"tuning/transformer.yaml\"),  # Transformer model\n",
    "]\n",
    "\n",
    "random_texts = [\n",
    "    \"অচুম্ববু\",\n",
    "    \"অচুম্বরনে\",\n",
    "    \"অচুম্বা\",\n",
    "    \"অচূম্বা\",\n",
    "    \"অচেৎপ\",\n",
    "    \"অচেৎপা\",\n",
    "    \"অচোন\",\n",
    "    \"অচোনি\",\n",
    "    \"অচোন্\",\n",
    "    \"অচোন্বা\",\n",
    "]\n",
    "\n",
    "results_dir = Path(\"results\")\n",
    "results_dir.mkdir(parents=True, exist_ok=True)\n",
    "\n",
    "for model_name, conf_file in model_conf_names:\n",
    "    ckpt_file = Path(f\"exp/xlit_train_{model_name}_char_ben_mni/wa.best.pth\")\n",
    "    if not ckpt_file.exists():\n",
    "        print(f\"Checkpoint not found: {ckpt_file}\")\n",
    "        continue\n",
    "    try:\n",
    "        xlit = XlitTask.from_pretrained(ckpt_file, Path(conf_file))\n",
    "    except Exception as e:\n",
    "        print(f\"Error loading model '{model_name}': {e}\")\n",
    "        continue\n",
    "\n",
    "    result_lines = [f\"{text}\\t{xlit(text)}\" for text in random_texts]\n",
    "    result_text = \"\\n\".join(result_lines)\n",
    "\n",
    "    output_file = results_dir / f\"{model_name}.txt\"\n",
    "    output_file.write_text(result_text, encoding=\"utf-8\")\n",
    "\n",
    "print(\"Results saved to results/*.txt\")"
   ]
  }
 ],
 "metadata": {
  "kernelspec": {
   "display_name": "text",
   "language": "python",
   "name": "python3"
  },
  "language_info": {
   "codemirror_mode": {
    "name": "ipython",
    "version": 3
   },
   "file_extension": ".py",
   "mimetype": "text/x-python",
   "name": "python",
   "nbconvert_exporter": "python",
   "pygments_lexer": "ipython3",
   "version": "3.10.16"
  }
 },
 "nbformat": 4,
 "nbformat_minor": 5
}
